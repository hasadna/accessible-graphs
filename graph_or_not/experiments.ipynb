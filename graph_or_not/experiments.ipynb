{
 "cells": [
  {
   "cell_type": "code",
   "execution_count": 1,
   "metadata": {},
   "outputs": [],
   "source": [
    "import numpy as np\n",
    "import cv2\n",
    "import os\n",
    "from matplotlib import pyplot as plt\n",
    "from tqdm import tqdm"
   ]
  },
  {
   "cell_type": "code",
   "execution_count": 2,
   "metadata": {},
   "outputs": [],
   "source": [
    "#   img = cv2.imread(url)\n",
    "#   img = cv2.resize(img, (256, 256))\n",
    "#   cv2.normalize(img, img, 0, 255, cv2.NORM_MINMAX)  \n",
    "#   return img"
   ]
  },
  {
   "cell_type": "code",
   "execution_count": 3,
   "metadata": {},
   "outputs": [],
   "source": [
    "def read_dataset(path):\n",
    "    pictures = []\n",
    "    lineplots = []\n",
    "    \n",
    "    #read pictures examples\n",
    "    for entry in tqdm(os.scandir(path+'/pictures/')):\n",
    "        if (entry.is_file()):\n",
    "            img = cv2.imread(entry.path)\n",
    "            pictures.append(img)\n",
    "    \n",
    "    #read lineplots examples\n",
    "    for entry in tqdm(os.scandir(path+'/lineplots/')):\n",
    "        if (entry.is_file()):\n",
    "            img = cv2.imread(entry.path)\n",
    "            lineplots.append(img)\n",
    "            \n",
    "    pictures = np.array(pictures)\n",
    "    lineplots = np.array(lineplots)\n",
    "            \n",
    "    return pictures, lineplots"
   ]
  },
  {
   "cell_type": "code",
   "execution_count": 4,
   "metadata": {},
   "outputs": [
    {
     "name": "stderr",
     "output_type": "stream",
     "text": [
      "1673it [00:05, 314.22it/s]\n",
      "182it [00:00, 2725.57it/s]\n"
     ]
    }
   ],
   "source": [
    "pictures, lineplots = read_dataset('dataset')"
   ]
  },
  {
   "cell_type": "code",
   "execution_count": null,
   "metadata": {},
   "outputs": [],
   "source": []
  }
 ],
 "metadata": {
  "kernelspec": {
   "display_name": "Python 3",
   "language": "python",
   "name": "python3"
  },
  "language_info": {
   "codemirror_mode": {
    "name": "ipython",
    "version": 3
   },
   "file_extension": ".py",
   "mimetype": "text/x-python",
   "name": "python",
   "nbconvert_exporter": "python",
   "pygments_lexer": "ipython3",
   "version": "3.7.6"
  }
 },
 "nbformat": 4,
 "nbformat_minor": 4
}
